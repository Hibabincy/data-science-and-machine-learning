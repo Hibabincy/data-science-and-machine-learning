{
  "metadata": {
    "language_info": {
      "codemirror_mode": {
        "name": "python",
        "version": 3
      },
      "file_extension": ".py",
      "mimetype": "text/x-python",
      "name": "python",
      "nbconvert_exporter": "python",
      "pygments_lexer": "ipython3",
      "version": "3.8"
    },
    "kernelspec": {
      "name": "python",
      "display_name": "Python (Pyodide)",
      "language": "python"
    }
  },
  "nbformat_minor": 4,
  "nbformat": 4,
  "cells": [
    {
      "cell_type": "code",
      "source": "import numpy as np\n#create matrices\nA = np.array([[1,2],[3,4]])\nB = np.array([[5,6],[7,8]])\n#addition\nC = A+B\n#substraction\nD = A-B\n#multiplication\nE = A*B\n#matrix multipliction\nF = np.dot(A,B) # or A@B\n#Transpose\nA_transpose=A.T\nprint(\"Addition:\")\nprint(C)\nprint(\"\\nSubstraction:\")\nprint(D)\nprint(\"\\nElement_wise multiplication:\")\nprint(E)\nprint(\"\\nMatrix multiplication\")\nprint(F)\nprint(\"\\nTranspose:\")\nprint(A_transpose)\n\nimport numpy as np\n# Create a sample matrix\nX = np.array([[1, 2, 3], [4, 5, 6], [7, 8, 9]])\n# Perform SVD\nU, S, VT = np.linalg.svd(X)\n# Choose the number of components to keep (e.g., 2)\nn_components = 2\n#Reconstruct the matrix with reduced dimensions\nX_reconstructed = np.dot(U[:, :n_components], np.dot(np.diag(S[:n_components]),\nVT[:n_components, :]))\nprint(\"Original Matrix:\")\nprint(X)\nprint(\"\\nReconstructed Matrix (with reduced dimensions):\")\nprint(X_reconstructed)",
      "metadata": {
        "trusted": true
      },
      "execution_count": 1,
      "outputs": [
        {
          "name": "stdout",
          "text": "Addition:\n[[ 6  8]\n [10 12]]\n\nSubstraction:\n[[-4 -4]\n [-4 -4]]\n\nElement_wise multiplication:\n[[ 5 12]\n [21 32]]\n\nMatrix multiplication\n[[19 22]\n [43 50]]\n\nTranspose:\n[[1 3]\n [2 4]]\nOriginal Matrix:\n[[1 2 3]\n [4 5 6]\n [7 8 9]]\n\nReconstructed Matrix (with reduced dimensions):\n[[1. 2. 3.]\n [4. 5. 6.]\n [7. 8. 9.]]\n",
          "output_type": "stream"
        }
      ]
    },
    {
      "cell_type": "code",
      "source": "",
      "metadata": {},
      "execution_count": null,
      "outputs": []
    }
  ]
}